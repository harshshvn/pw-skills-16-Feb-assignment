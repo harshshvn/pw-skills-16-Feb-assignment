{
 "cells": [
  {
   "cell_type": "markdown",
   "id": "076f4847-f845-4885-b16a-c2ea4d12ddd1",
   "metadata": {},
   "source": [
    "Q1"
   ]
  },
  {
   "cell_type": "markdown",
   "id": "516f760b-5f67-482c-a3b4-8cdea636b117",
   "metadata": {},
   "source": [
    "A database is information that is set up for easy access, management and updating. Computer databases typically store aggregations of data records or files that contain information, such as sales transactions, customer data, financials and product information.\n",
    "\n",
    "Databases are used for storing, maintaining and accessing any sort of data. They collect information on people, places or things. That information is gathered in one place so that it can be observed and analyzed. Databases can be thought of as an organized collection of information.\n",
    "\n",
    "Difference between sql and nosql are-\n",
    "\n",
    "sql-Structured Query language (SQL)  is the standard language for dealing with Relational Databases. A relational database defines relationships in the form of tables.\n",
    "SQL programming can be effectively used to insert, search, update, delete database records.\n",
    "That doesn’t mean SQL cannot do things beyond that. It can do a lot of things including, but not limited to, optimizing and maintenance of databases.\n",
    "Relational databases like MySQL Database, Oracle, Ms SQL Server, Sybase, etc. use SQL.\n",
    "\n",
    "nosql-NoSQL databases are primarily called as Non-relational or distributed database.NoSQL databases can be document based, key-value pairs, graph databases.NoSQL databases use dynamic schema for unstructured data.Ex-\tMongoDB, Redis, Neo4j, Cassandra, Hbase."
   ]
  },
  {
   "cell_type": "markdown",
   "id": "822595d4-236d-4a90-8b8b-1c9697399293",
   "metadata": {},
   "source": [
    "Q2"
   ]
  },
  {
   "cell_type": "markdown",
   "id": "44299c12-1938-40e4-8d13-303283011146",
   "metadata": {},
   "source": [
    "Data definition language (DDL) describes the portion of SQL that creates, alters, and deletes database objects. These database objects include schemas, tables, views, sequences, catalogs, indexes, variables, masks, permissions, and aliases.\n",
    "\n",
    "CREATE-It is a sql keyword used for Creating a database, index, view, table, or procedure.\n",
    "\n",
    "Alter-Adds, deletes, or modifies columns in a table, or changes the data type of a column in a table.\n",
    "\n",
    "Drop-Deletes a column, constraint, database, index, table, or view.\n",
    "\n",
    "Truncate-Deletes the data inside a table, but not the table itself."
   ]
  },
  {
   "cell_type": "markdown",
   "id": "12aaffed-0ad0-4f75-89c8-e37b57d5a0d0",
   "metadata": {},
   "source": [
    "Q3\n"
   ]
  },
  {
   "cell_type": "markdown",
   "id": "4ddef46d-5af9-4693-80c8-fb130523dfe0",
   "metadata": {},
   "source": [
    "A data manipulation language (DML) is a computer programming language used for adding (inserting), deleting, and modifying (updating) data in a database. A DML is often a sublanguage of a broader database language such as SQL, with the DML comprising some of the operators in the language\n",
    "\n",
    "INSERT-Inserts new rows in a table\n",
    "\n",
    "UPDATE-Updates existing rows in a table\n",
    "\n",
    "DELETE-\tDeletes rows from a table"
   ]
  },
  {
   "cell_type": "markdown",
   "id": "1987c92a-6306-4c8e-8118-9935628805c0",
   "metadata": {},
   "source": [
    "Q4"
   ]
  },
  {
   "cell_type": "markdown",
   "id": "5ad5d8ff-a47a-4617-87a7-d347bc655af1",
   "metadata": {},
   "source": [
    "Data query language (DQL) is part of the base grouping of SQL sub-languages. These sub-languages are mainly categorized into four categories: a data query language (DQL), a data definition language (DDL), a data control language (DCL), and a data manipulation language (DML). Sometimes a transaction control language (TCL) is argued to be part of the sub-language set as well.DQL statements are used for performing queries on the data within schema objects. The purpose of DQL commands is to get the schema relation based on the query passed to it.\n",
    "\n",
    "SELECT-Selects data from a database\n",
    "\n",
    "\n"
   ]
  },
  {
   "cell_type": "markdown",
   "id": "d664471c-8ba1-49f0-bf77-27ed1924bbf2",
   "metadata": {},
   "source": [
    "Q5"
   ]
  },
  {
   "cell_type": "markdown",
   "id": "be5e312c-4694-4afa-9fd6-48b8bc6b2809",
   "metadata": {},
   "source": [
    "PRIMARY KEY-The PRIMARY KEY constraint uniquely identifies each record in a table.\n",
    "Primary keys must contain UNIQUE values, and cannot contain NULL values.\n",
    "A table can have only ONE primary key; and in the table, this primary key can consist of single or multiple columns\n",
    "\n",
    "FOREIGN KEY-The FOREIGN KEY constraint is used to prevent actions that would destroy links between tables.\n",
    "A FOREIGN KEY is a field (or collection of fields) in one table, that refers to the PRIMARY KEY in another table.\n",
    "The table with the foreign key is called the child table, and the table with the primary key is called the referenced or parent table."
   ]
  },
  {
   "cell_type": "markdown",
   "id": "0198d0b1-4689-4303-a929-494a80eeb4a2",
   "metadata": {},
   "source": [
    "Q6"
   ]
  },
  {
   "cell_type": "markdown",
   "id": "5771dc91-98ce-4638-adff-32b65aba4d90",
   "metadata": {},
   "source": [
    "cursor()-Cursors are created by the connection.cursor() method: they are bound to the connection for the entire lifetime and all the commands are executed in the context of the database session wrapped by the connection.\n",
    "\n",
    "\n",
    "execute()-This method accepts a MySQL query as a parameter and executes the given query.\n",
    "\n"
   ]
  },
  {
   "cell_type": "code",
   "execution_count": null,
   "id": "66dd3e0e-dd02-46d4-91de-2f22e3f20b0f",
   "metadata": {},
   "outputs": [],
   "source": [
    "#to connect mysql to python\n",
    "import mysql.connector\n",
    "\n",
    "#establishing the connection\n",
    "conn = mysql.connector.connect(\n",
    "   user='root', password='password', host='localhost'\n",
    ")\n"
   ]
  },
  {
   "cell_type": "markdown",
   "id": "2f6015f9-37f9-43b5-a73c-0532a286a3b2",
   "metadata": {},
   "source": [
    "Q7\n"
   ]
  },
  {
   "cell_type": "code",
   "execution_count": null,
   "id": "a7526f4d-436c-4e49-bf00-4b9ca777e585",
   "metadata": {},
   "outputs": [],
   "source": []
  }
 ],
 "metadata": {
  "kernelspec": {
   "display_name": "Python 3 (ipykernel)",
   "language": "python",
   "name": "python3"
  },
  "language_info": {
   "codemirror_mode": {
    "name": "ipython",
    "version": 3
   },
   "file_extension": ".py",
   "mimetype": "text/x-python",
   "name": "python",
   "nbconvert_exporter": "python",
   "pygments_lexer": "ipython3",
   "version": "3.10.8"
  }
 },
 "nbformat": 4,
 "nbformat_minor": 5
}
